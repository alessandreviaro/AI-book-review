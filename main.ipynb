{
 "cells": [
  {
   "cell_type": "markdown",
   "metadata": {},
   "source": [
    "Review de livros usando o Google AI Studio"
   ]
  },
  {
   "cell_type": "markdown",
   "metadata": {},
   "source": [
    "1 - Coleta de Dados:\n",
    "Fontes de dados:\n",
    "Site: Bookstoscrape.com\n",
    "\n",
    "Ferramentas de coleta:\n",
    "Web scraping com Python e Selenium."
   ]
  },
  {
   "cell_type": "code",
   "execution_count": 8,
   "metadata": {},
   "outputs": [],
   "source": [
    "# Importando as Bibliotecas\n",
    "import pandas as pd\n",
    "from selenium import webdriver\n",
    "from selenium.webdriver.chrome.service import Service\n",
    "from selenium.webdriver.common.by import By\n",
    "# Iniciando a instância do Google Chrome\n",
    "service = Service()\n",
    "\n",
    "options = webdriver.ChromeOptions()\n",
    "\n",
    "driver = webdriver.Chrome(service=service, options=options)\n",
    "\n",
    "url = 'https://books.toscrape.com/catalogue/category/books_1/index.html'\n",
    "\n",
    "driver.get(url)"
   ]
  },
  {
   "cell_type": "code",
   "execution_count": 9,
   "metadata": {},
   "outputs": [],
   "source": [
    "titles = driver.find_elements(By.TAG_NAME, 'a')[54:94:2]"
   ]
  },
  {
   "cell_type": "code",
   "execution_count": 10,
   "metadata": {},
   "outputs": [],
   "source": [
    "Titlelist = [title.get_attribute('title') for title in titles]"
   ]
  },
  {
   "cell_type": "code",
   "execution_count": 11,
   "metadata": {},
   "outputs": [
    {
     "name": "stdout",
     "output_type": "stream",
     "text": [
      "[51.77, 53.74, 51.77, 50.1, 53.74, 51.77, 47.82, 50.1, 53.74, 51.77, 54.23, 47.82, 50.1, 53.74, 51.77, 22.65, 54.23, 47.82, 50.1, 53.74, 51.77, 33.34, 22.65, 54.23, 47.82, 50.1, 53.74, 51.77, 17.93, 33.34, 22.65, 54.23, 47.82, 50.1, 53.74, 22.6, 17.93, 33.34, 22.65, 54.23, 47.82, 50.1, 52.15, 22.6, 17.93, 33.34, 22.65, 54.23, 47.82, 13.99, 52.15, 22.6, 17.93, 33.34, 22.65, 54.23, 20.66, 13.99, 52.15, 22.6, 17.93, 33.34, 22.65, 17.46, 20.66, 13.99, 52.15, 22.6, 17.93, 33.34, 52.29, 17.46, 20.66, 13.99, 52.15, 22.6, 17.93, 35.02, 52.29, 17.46, 20.66, 13.99, 52.15, 22.6, 57.25, 35.02, 52.29, 17.46, 20.66, 13.99, 52.15, 23.88, 57.25, 35.02, 52.29, 17.46, 20.66, 13.99, 37.59, 23.88, 57.25, 35.02, 52.29, 17.46, 20.66, 51.33, 37.59, 23.88, 57.25, 35.02, 52.29, 17.46, 45.17, 51.33, 37.59, 23.88, 57.25, 35.02, 52.29]\n"
     ]
    }
   ],
   "source": [
    "titles = driver.find_elements(By.TAG_NAME, 'a')[54:94:2]\n",
    "\n",
    "prices_list = []\n",
    "\n",
    "for ti in titles:\n",
    "\n",
    "    ti.click()\n",
    "\n",
    "    book_prices = driver.find_elements(By.CLASS_NAME, 'price_color')\n",
    "\n",
    "    for price_element in book_prices:\n",
    "\n",
    "        price_text = price_element.text.replace('£', '')\n",
    "\n",
    "        price = float(price_text)\n",
    "\n",
    "        prices_list.append(price)\n",
    "\n",
    "    driver.back()\n",
    "\n",
    "print(prices_list)"
   ]
  },
  {
   "cell_type": "code",
   "execution_count": null,
   "metadata": {},
   "outputs": [],
   "source": []
  }
 ],
 "metadata": {
  "kernelspec": {
   "display_name": "Python 3",
   "language": "python",
   "name": "python3"
  },
  "language_info": {
   "codemirror_mode": {
    "name": "ipython",
    "version": 3
   },
   "file_extension": ".py",
   "mimetype": "text/x-python",
   "name": "python",
   "nbconvert_exporter": "python",
   "pygments_lexer": "ipython3",
   "version": "3.12.3"
  }
 },
 "nbformat": 4,
 "nbformat_minor": 2
}
