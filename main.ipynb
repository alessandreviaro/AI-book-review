{
 "cells": [
  {
   "cell_type": "markdown",
   "metadata": {},
   "source": [
    "Review de livros usando o Google AI Studio"
   ]
  },
  {
   "cell_type": "markdown",
   "metadata": {},
   "source": [
    "1 - Coleta de Dados:\n",
    "Fontes de dados:\n",
    "Site: Bookstoscrape.com\n",
    "\n",
    "Ferramentas de coleta:\n",
    "Web scraping com Python e Selenium."
   ]
  },
  {
   "cell_type": "code",
   "execution_count": 1,
   "metadata": {},
   "outputs": [],
   "source": [
    "# Importando as Bibliotecas\n",
    "import pandas as pd\n",
    "from selenium import webdriver\n",
    "from selenium.webdriver.chrome.service import Service\n",
    "from selenium.webdriver.common.by import By\n",
    "# Iniciando a instância do Google Chrome\n",
    "service = Service()\n",
    "\n",
    "options = webdriver.ChromeOptions()\n",
    "\n",
    "driver = webdriver.Chrome(service=service, options=options)\n",
    "\n",
    "url = 'https://books.toscrape.com/catalogue/category/books_1/index.html'\n",
    "\n",
    "driver.get(url)"
   ]
  },
  {
   "cell_type": "code",
   "execution_count": 2,
   "metadata": {},
   "outputs": [],
   "source": [
    "titles = driver.find_elements(By.TAG_NAME, 'a')[54:94:2]"
   ]
  },
  {
   "cell_type": "code",
   "execution_count": 3,
   "metadata": {},
   "outputs": [],
   "source": [
    "Titlelist = [title.get_attribute('title') for title in titles]"
   ]
  },
  {
   "cell_type": "code",
   "execution_count": null,
   "metadata": {},
   "outputs": [],
   "source": [
    "titles = driver.find_elements(By.TAG_NAME, 'a')[54:94:2]\n",
    "\n",
    "prices_list = []\n",
    "\n",
    "for ti in titles:\n",
    "\n",
    "    ti.click()\n",
    "\n",
    "    book_prices = driver.find_elements(By.CLASS_NAME, 'price_color')\n",
    "\n",
    "    for price_element in book_prices:\n",
    "\n",
    "        price_text = price_element.text.replace('£', '')\n",
    "\n",
    "        price = float(price_text)\n",
    "\n",
    "        prices_list.append(price)\n",
    "\n",
    "    driver.back()\n"
   ]
  },
  {
   "cell_type": "code",
   "execution_count": null,
   "metadata": {},
   "outputs": [],
   "source": [
    "prices_list = prices_list[:20]\n",
    "\n",
    "print(prices_list)\n"
   ]
  },
  {
   "cell_type": "code",
   "execution_count": null,
   "metadata": {},
   "outputs": [],
   "source": [
    "dictT = {'Book Title': Titlelist,\n",
    "         'Book Prices': prices_list}\n",
    "\n",
    "book_list = pd.DataFrame(dictT)\n"
   ]
  }
 ],
 "metadata": {
  "kernelspec": {
   "display_name": "Python 3",
   "language": "python",
   "name": "python3"
  },
  "language_info": {
   "codemirror_mode": {
    "name": "ipython",
    "version": 3
   },
   "file_extension": ".py",
   "mimetype": "text/x-python",
   "name": "python",
   "nbconvert_exporter": "python",
   "pygments_lexer": "ipython3",
   "version": "3.12.3"
  }
 },
 "nbformat": 4,
 "nbformat_minor": 2
}
